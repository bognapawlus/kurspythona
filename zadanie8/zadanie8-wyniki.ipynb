{
 "cells": [
  {
   "cell_type": "markdown",
   "id": "05f667d8",
   "metadata": {},
   "source": [
    "### Obsługa w argparse:\n",
    "`! program.py n k w`\n",
    "\n",
    "Gdzie:\n",
    "\n",
    "`n` - liczba ułamków\n",
    "\n",
    "`k` - liczba dodawań\n",
    "\n",
    "`w` - wersja pierwsza lub druga klasy Ułamek (pierwsza gdy w = 1, druga w przeciwnym wypadku)\n",
    "\n",
    "### Wyniki dla wersji 1:"
   ]
  },
  {
   "cell_type": "code",
   "execution_count": 1,
   "id": "81df8ff7",
   "metadata": {},
   "outputs": [
    {
     "name": "stdout",
     "output_type": "stream",
     "text": [
      "\tElapsed (wall clock) time (h:mm:ss or m:ss): 0:01.97\r\n",
      "\tMaximum resident set size (kbytes): 175680\r\n"
     ]
    }
   ],
   "source": [
    "# n = 1000000, k = 1000000\n",
    "! /usr/bin/time -v python program.py 1000000 1000000 1 2>&1 1>/dev/null | grep  -E \"wall|Max\""
   ]
  },
  {
   "cell_type": "code",
   "execution_count": 2,
   "id": "acff18dd",
   "metadata": {},
   "outputs": [
    {
     "name": "stdout",
     "output_type": "stream",
     "text": [
      "\tElapsed (wall clock) time (h:mm:ss or m:ss): 0:06.26\r\n",
      "\tMaximum resident set size (kbytes): 175520\r\n"
     ]
    }
   ],
   "source": [
    "# n = 1000000, k = 5000000\n",
    "! /usr/bin/time -v python program.py 1000000 5000000 1 2>&1 1>/dev/null | grep  -E \"wall|Max\""
   ]
  },
  {
   "cell_type": "code",
   "execution_count": 3,
   "id": "9c093c9f",
   "metadata": {},
   "outputs": [
    {
     "name": "stdout",
     "output_type": "stream",
     "text": [
      "\tElapsed (wall clock) time (h:mm:ss or m:ss): 0:05.30\r\n",
      "\tMaximum resident set size (kbytes): 834400\r\n"
     ]
    }
   ],
   "source": [
    "# n = 5000000, k = 1000000\n",
    "! /usr/bin/time -v python program.py 5000000 1000000 1 2>&1 1>/dev/null | grep  -E \"wall|Max\""
   ]
  },
  {
   "cell_type": "code",
   "execution_count": 4,
   "id": "52a8835c",
   "metadata": {},
   "outputs": [
    {
     "name": "stdout",
     "output_type": "stream",
     "text": [
      "\tElapsed (wall clock) time (h:mm:ss or m:ss): 0:10.14\r\n",
      "\tMaximum resident set size (kbytes): 834560\r\n"
     ]
    }
   ],
   "source": [
    "# n = 5000000, k = 5000000\n",
    "! /usr/bin/time -v python program.py 5000000 5000000 1 2>&1 1>/dev/null | grep  -E \"wall|Max\""
   ]
  },
  {
   "cell_type": "code",
   "execution_count": 15,
   "id": "9eb20862",
   "metadata": {},
   "outputs": [
    {
     "name": "stdout",
     "output_type": "stream",
     "text": [
      "\tElapsed (wall clock) time (h:mm:ss or m:ss): 0:20.30\r\n",
      "\tMaximum resident set size (kbytes): 1657600\r\n"
     ]
    }
   ],
   "source": [
    "# n = 10000000, k = 10000000\n",
    "! /usr/bin/time -v python program.py 10000000 10000000 1 2>&1 1>/dev/null | grep  -E \"wall|Max\""
   ]
  },
  {
   "cell_type": "markdown",
   "id": "fd2d2af6",
   "metadata": {},
   "source": [
    "### Tworzenie wersji 2:"
   ]
  },
  {
   "cell_type": "code",
   "execution_count": 5,
   "id": "8c172e11",
   "metadata": {},
   "outputs": [],
   "source": [
    "! perl -p -e \"s/# Wersja2 //\" wersja1.py > wersja2.py"
   ]
  },
  {
   "cell_type": "markdown",
   "id": "0da806c1",
   "metadata": {},
   "source": [
    "### Wyniki dla wersji 2:"
   ]
  },
  {
   "cell_type": "code",
   "execution_count": 7,
   "id": "b8593c2a",
   "metadata": {},
   "outputs": [
    {
     "name": "stdout",
     "output_type": "stream",
     "text": [
      "\tElapsed (wall clock) time (h:mm:ss or m:ss): 0:00.01\r\n",
      "\tMaximum resident set size (kbytes): 10560\r\n"
     ]
    }
   ],
   "source": [
    "# n = 1000000, k = 1000000\n",
    "! /usr/bin/time -v python program.py 1000000 1000000 2 2>&1 1>/dev/null | grep  -E \"wall|Max\""
   ]
  },
  {
   "cell_type": "code",
   "execution_count": 8,
   "id": "65f50031",
   "metadata": {},
   "outputs": [
    {
     "name": "stdout",
     "output_type": "stream",
     "text": [
      "\tElapsed (wall clock) time (h:mm:ss or m:ss): 0:00.01\r\n",
      "\tMaximum resident set size (kbytes): 10560\r\n"
     ]
    }
   ],
   "source": [
    "# n = 1000000, k = 5000000\n",
    "! /usr/bin/time -v python program.py 1000000 5000000 2 2>&1 1>/dev/null | grep  -E \"wall|Max\""
   ]
  },
  {
   "cell_type": "code",
   "execution_count": 9,
   "id": "63bd1f86",
   "metadata": {},
   "outputs": [
    {
     "name": "stdout",
     "output_type": "stream",
     "text": [
      "\tElapsed (wall clock) time (h:mm:ss or m:ss): 0:00.01\r\n",
      "\tMaximum resident set size (kbytes): 10720\r\n"
     ]
    }
   ],
   "source": [
    "# n = 5000000, k = 1000000\n",
    "! /usr/bin/time -v python program.py 5000000 1000000 2 2>&1 1>/dev/null | grep  -E \"wall|Max\""
   ]
  },
  {
   "cell_type": "code",
   "execution_count": 10,
   "id": "ec4ab3cb",
   "metadata": {},
   "outputs": [
    {
     "name": "stdout",
     "output_type": "stream",
     "text": [
      "\tElapsed (wall clock) time (h:mm:ss or m:ss): 0:00.01\r\n",
      "\tMaximum resident set size (kbytes): 10560\r\n"
     ]
    }
   ],
   "source": [
    "# n = 5000000, k = 5000000\n",
    "! /usr/bin/time -v python program.py 5000000 5000000 2 2>&1 1>/dev/null | grep  -E \"wall|Max\""
   ]
  },
  {
   "cell_type": "code",
   "execution_count": 14,
   "id": "6a72ac0b",
   "metadata": {},
   "outputs": [
    {
     "name": "stdout",
     "output_type": "stream",
     "text": [
      "\tElapsed (wall clock) time (h:mm:ss or m:ss): 0:00.02\r\n",
      "\tMaximum resident set size (kbytes): 10560\r\n"
     ]
    }
   ],
   "source": [
    "# n = 10000000, k = 10000000\n",
    "! /usr/bin/time -v python program.py 10000000 10000000 2 2>&1 1>/dev/null | grep  -E \"wall|Max\""
   ]
  },
  {
   "cell_type": "code",
   "execution_count": null,
   "id": "4bdd94db",
   "metadata": {},
   "outputs": [],
   "source": []
  }
 ],
 "metadata": {
  "kernelspec": {
   "display_name": "Python 3 (ipykernel)",
   "language": "python",
   "name": "python3"
  },
  "language_info": {
   "codemirror_mode": {
    "name": "ipython",
    "version": 3
   },
   "file_extension": ".py",
   "mimetype": "text/x-python",
   "name": "python",
   "nbconvert_exporter": "python",
   "pygments_lexer": "ipython3",
   "version": "3.10.12"
  }
 },
 "nbformat": 4,
 "nbformat_minor": 5
}
