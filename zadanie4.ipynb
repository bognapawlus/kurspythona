{
 "cells": [
  {
   "cell_type": "markdown",
   "id": "34b19d48",
   "metadata": {},
   "source": [
    "## Zadanie 4.1\n",
    "\n",
    "Napisz skrypt, który pozwoli na określenie w parametrach opcji:\n",
    "\n",
    "a) wybór miesięcy (można wybrać dowolną ilość)\n",
    "\n",
    "b) wybór **zakresu** dni tygodnia (tyle samo argumentów co w (a) )\n",
    "\n",
    "c) wybór albo rano albo wieczorem (domyślnie rano) - dla ilości przypadków il.miesięcy x il.dni\n",
    "\n",
    "Dla zadanych parametrów wygeneruj napisy (tu każdy dzień tygodnia z zakresu traktujemy osobno).\n",
    "\n",
    "```Przykład:\n",
    "Wejście: [styczeń, luty], [pn-wt, pt], [r,w]\n",
    "\n",
    "Styczeń poniedziałek rano\n",
    "Styczeń wtorek wieczorem\n",
    "Luty piątek rano (bo domyślnie)\n",
    "```"
   ]
  },
  {
   "cell_type": "code",
   "execution_count": 19,
   "id": "542c71c1",
   "metadata": {},
   "outputs": [],
   "source": [
    "# przekonwertowanie wejścia do listy\n",
    "def create_lists_from_input(inp):\n",
    "    inp = inp.split(\"],\")\n",
    "    newlist = []\n",
    "    for el in inp:\n",
    "        el = el.replace('[', '')\n",
    "        el = el.replace(' ', '')\n",
    "        el = el.replace(']', '')\n",
    "        el = el.split(\",\")\n",
    "        newlist.append(el)    \n",
    "    return newlist   \n",
    "        \n",
    "#print(create_lists_from_input(\"[styczeń, luty-kwieciec], [pn-wt, pt, sb, nd], [r,w]\"))"
   ]
  },
  {
   "cell_type": "code",
   "execution_count": 20,
   "id": "37f295ed",
   "metadata": {},
   "outputs": [],
   "source": [
    "# zamiana miesięcy i dni na numery:\n",
    "\n",
    "days = [\"pn\", \"wt\", \"śr\", \"cz\", \"pt\", \"sb\", \"nd\"]\n",
    "months = [\"styczeń\", \"luty\", \"marzec\", \"kwiecień\", \"maj\", \"czerwiec\", \"lipiec\", \"sierpień\", \"wrzesień\", \"październik\", \"listopad\", \"grudzień\"]\n",
    "\n",
    "def convert_day_to_number(day):\n",
    "    ans = 0\n",
    "    for i in range(7):\n",
    "        if days[i] == day:\n",
    "            ans = i\n",
    "            break\n",
    "    return ans\n",
    "    \n",
    "def convert_number_to_day(n):\n",
    "    return days[n]\n",
    "    \n",
    "def convert_month_to_number(month):\n",
    "    ans = 0\n",
    "    for i in range(12):\n",
    "        if months[i] == month:\n",
    "            ans = i\n",
    "            break\n",
    "    return ans\n",
    "\n",
    "def convert_number_to_month(n):\n",
    "    return months[n]"
   ]
  },
  {
   "cell_type": "code",
   "execution_count": 21,
   "id": "5e6de72f",
   "metadata": {},
   "outputs": [],
   "source": [
    "# dodawanie jednego napisu z miesiącem/ami do odpowiedniej listy\n",
    "def dodaj_1_do_listy_M(zmienna, lista):\n",
    "    bound = zmienna.split(\"-\")\n",
    "    n = len(bound)\n",
    "    start = convert_month_to_number(bound[0]) #pierszy miesiąc\n",
    "    end = convert_month_to_number(bound[n - 1]) #ostatni miesiąc\n",
    "    for m in range(start, end + 1):\n",
    "        lista.append(convert_number_to_month(m))\n",
    "\n",
    "# dodawanie jednego napisu z miesiącem/ami do odpowiedniej listy\n",
    "def dodaj_1_do_listy_D(zmienna, lista):\n",
    "    bound = zmienna.split(\"-\")\n",
    "    n = len(bound)\n",
    "    start = convert_day_to_number(bound[0])\n",
    "    end = convert_day_to_number(bound[n - 1])\n",
    "    for d in range(start, end + 1):\n",
    "        lista.append(convert_number_to_day(d))\n"
   ]
  },
  {
   "cell_type": "code",
   "execution_count": 22,
   "id": "7a58e051",
   "metadata": {},
   "outputs": [],
   "source": [
    "# funkcja do generowania napisów\n",
    "def wypisz(listM, listD, listT):\n",
    "    our_months = []\n",
    "    our_days = []\n",
    "    our_time = []   \n",
    "    \n",
    "    for m in listM:\n",
    "        dodaj_1_do_listy_M(m, our_months)\n",
    "    \n",
    "    #print(our_months)\n",
    "    \n",
    "    for d in listD:\n",
    "        dodaj_1_do_listy_D(d, our_days)\n",
    "    \n",
    "    our_time = listT\n",
    "        \n",
    "    indT = 0\n",
    "    lenT = len(listT)\n",
    "    lenDM = len(our_months)\n",
    "    \n",
    "    for indDM in range(lenDM):\n",
    "        em = our_months[indDM]\n",
    "        ed = our_days[indDM]\n",
    "        \n",
    "        if indT < lenT:\n",
    "            print(em, \" \", ed, \" \", listT[indT])\n",
    "            indT += 1\n",
    "        else:\n",
    "            print(em, \" \", ed, \" \", \"r\")"
   ]
  },
  {
   "cell_type": "code",
   "execution_count": 26,
   "id": "fcdbdb54",
   "metadata": {},
   "outputs": [
    {
     "name": "stdout",
     "output_type": "stream",
     "text": [
      "styczeń   pn   r\n",
      "luty   wt   w\n"
     ]
    }
   ],
   "source": [
    "#inp = input(\"WEJŚCIE:\")\n",
    "lista_list = create_lists_from_input(inp)\n",
    "#wypisz(lista_list[0], lista_list[1], lista_list[2])\n",
    "wypisz(['styczeń', 'luty'], ['pn-wt', 'pt'], ['r','w'])\n",
    "#wypisz([\"styczeń-luty\",\"kwiecień\"], [\"pn-wt\", \"pt\"], [\"w\"])"
   ]
  },
  {
   "cell_type": "markdown",
   "id": "e19e23f6",
   "metadata": {},
   "source": [
    "## Zadanie 4.2\n",
    "Napisz funkcję, która przepisuje wszystkie linie z jednego pliku, do drugiego pliku i uruchom wszystko zgodnie z sekcją Biblioteka argparse z pliku Zajecia_4.ipyb."
   ]
  },
  {
   "cell_type": "code",
   "execution_count": 32,
   "id": "d2ea207e",
   "metadata": {},
   "outputs": [],
   "source": [
    "%%python - plik.txt out.txt 2 --append\n",
    "import sys\n",
    "import argparse\n",
    "\n",
    "parser = argparse.ArgumentParser()\n",
    "parser.add_argument(\"input_file\", help=\"file to be read\")\n",
    "parser.add_argument(\"result_file\", help=\"file to save result\")\n",
    "parser.add_argument(\n",
    "   \"count_lines\", type=int, default=10, nargs=\"?\", help=\"Number of lines to be copied, default 10\" \n",
    ")\n",
    "parser.add_argument(\n",
    "   \"--append\", action=\"store_const\", const=\"a\", default=\"w\", help=\"append result to `result_file`\", dest=\"append\"\n",
    ") ##cala zawwart zmazana\n",
    "\n",
    "args = parser.parse_args()\n",
    "\n",
    "def copy_lines(input_file, result_file, count_lines, write_mode):\n",
    "    plik = open(input_file, 'r')\n",
    "    plik2 = open(result_file, write_mode)\n",
    "    for i in range(count_lines):\n",
    "        linia = plik.readline()\n",
    "        plik2.write(linia)\n",
    "    plik.close()\n",
    "    plik2.close()\n",
    "\n",
    "copy_lines(args.input_file, args.result_file, args.count_lines, args.append) \n"
   ]
  },
  {
   "cell_type": "markdown",
   "id": "246ccf92",
   "metadata": {},
   "source": [
    "3. This is an extension of the task from first part of classes. I recommend using argparse to read user-defined input.\n",
    "\n",
    "Part A: Create folders named: January, ... , December Create subfolders named: Monday, ... , Sunday In every subfolder create 2 subfolders: morning, evening In every subsubfolder create 'Solutions.csv' file. The 'Solutions.csv' should consist of two lines: \" Model; Output value; Time of computation; \" \" A ; 17 ; 465s; \"\n",
    "\n",
    "The first line is always the same. The second one should be generated randomly (x in {A,B,C}, 0-1000, 0-1000s)\n",
    "\n",
    "Part B: Output the sum of \"Time of computation\" for the model A. Assume that you do not know how many folders and subfolders there are."
   ]
  },
  {
   "cell_type": "code",
   "execution_count": 95,
   "id": "1308c4be",
   "metadata": {},
   "outputs": [],
   "source": [
    "#PART A\n",
    "import calendar \n",
    "import os\n",
    "import random\n",
    "day_names = list(calendar.day_name)\n",
    "months = list(calendar.month_name)\n",
    "months.pop(0)\n",
    "\n",
    "def model_rand(): #generate randomly model\n",
    "    z = random.randrange(0, 3)\n",
    "    return chr(65 + z)\n",
    "    \n",
    "def time_rand(): #generate randomly time\n",
    "    return random.randrange(0, 1001)\n",
    "\n",
    "def create_file(file_name, text):\n",
    "    f = open(file_name, \"w\", encoding=\"UTF-8\")\n",
    "    f.write(text)\n",
    "    f.close()\n",
    "    \n",
    "def partA():\n",
    "    for em in months:\n",
    "        for ed in day_names:\n",
    "            if not os.path.exists(em):\n",
    "                os.mkdir(em)\n",
    "            os.mkdir(em + \"/\" + ed)\n",
    "            dir = ['', '']\n",
    "            dir[0] = em + \"/\" + ed + \"/morning\" ## ściezka\n",
    "            dir[1] = em + \"/\" + ed + \"/evening\"\n",
    "\n",
    "            for d in dir:\n",
    "                os.mkdir(d)\n",
    "                d += \"/Solutions.csv\"\n",
    "                text = \" Model; Output value; Time of computation; \\n \"\n",
    "                text += model_rand() + \" ; 17 ; \" + str(time_rand()) + \"s; \"\n",
    "                create_file(d, text)\n",
    "\n",
    "partA()"
   ]
  },
  {
   "cell_type": "code",
   "execution_count": null,
   "id": "d73b6569",
   "metadata": {},
   "outputs": [],
   "source": [
    "list_m = [\"January\", \"February\", \"March\"]\n",
    "m = list_m[1]\n",
    "d = \"Tuesday\"\n",
    "path = os.path.join(os.getcwd(),m,d,\"Ranek\")\n",
    "print(path)"
   ]
  },
  {
   "cell_type": "code",
   "execution_count": 97,
   "id": "b0f0d75c",
   "metadata": {},
   "outputs": [
    {
     "name": "stdout",
     "output_type": "stream",
     "text": [
      "78120\n"
     ]
    }
   ],
   "source": [
    "import csv\n",
    "\n",
    "def partB():\n",
    "    suma = 0;\n",
    "    for em in months:\n",
    "        for ed in day_names:\n",
    "            files = ['', '']\n",
    "            files[0] = em + \"/\" + ed + \"/evening/Solutions.csv\"\n",
    "            files[1] = em + \"/\" + ed + \"/morning/Solutions.csv\"\n",
    "\n",
    "            for f in files:\n",
    "                file = open(f)\n",
    "                csvreader = csv.reader(file, delimiter=';')\n",
    "                rows = []\n",
    "\n",
    "                for row in csvreader:\n",
    "                    rows.append(row)\n",
    "\n",
    "                x2 = int(rows[1][2].replace(' ', '').replace('s', ''))\n",
    "                suma += x2\n",
    "                file.close()\n",
    "    return suma\n",
    "\n",
    "print(partB())"
   ]
  },
  {
   "cell_type": "code",
   "execution_count": null,
   "id": "442e10a8",
   "metadata": {},
   "outputs": [],
   "source": [
    "list_m = [\"January\", \"February\", \"March\"]\n",
    "m = list_m[1]\n",
    "d = \"Tuesday\"\n",
    "path = os.path.join(os.getcwd(),m,d,\"Ranek\")\n",
    "print(path)\n",
    "\n",
    "## TO DO ZAD DOMOWGO!!!"
   ]
  }
 ],
 "metadata": {
  "kernelspec": {
   "display_name": "Python 3 (ipykernel)",
   "language": "python",
   "name": "python3"
  },
  "language_info": {
   "codemirror_mode": {
    "name": "ipython",
    "version": 3
   },
   "file_extension": ".py",
   "mimetype": "text/x-python",
   "name": "python",
   "nbconvert_exporter": "python",
   "pygments_lexer": "ipython3",
   "version": "3.10.12"
  }
 },
 "nbformat": 4,
 "nbformat_minor": 5
}
