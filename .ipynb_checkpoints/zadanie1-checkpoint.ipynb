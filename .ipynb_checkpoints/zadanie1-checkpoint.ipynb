{
 "cells": [
  {
   "cell_type": "markdown",
   "id": "b50dc995",
   "metadata": {},
   "source": [
    "**1.** Wyznaczenie $\\pi$ metodą Monte Carlo"
   ]
  },
  {
   "cell_type": "code",
   "execution_count": 1,
   "id": "e2d656c4",
   "metadata": {},
   "outputs": [],
   "source": [
    "#ile punktów z n znajduje się w okręgu jednostkowym\n",
    "import random\n",
    "def ile(n):\n",
    "    ile = 0\n",
    "    for z in range(n):\n",
    "        numx = random.uniform(0, 1)\n",
    "        numy = random.uniform(0, 1)\n",
    "        if numx**2 + numy**2 < 1:\n",
    "            ile += 1\n",
    "    return ile"
   ]
  },
  {
   "cell_type": "code",
   "execution_count": 2,
   "id": "958abb0a",
   "metadata": {},
   "outputs": [],
   "source": [
    "#przybliżenie pi\n",
    "def pi(n):\n",
    "    return ile(n) / n * 4"
   ]
  },
  {
   "cell_type": "code",
   "execution_count": 5,
   "id": "c2648ec3",
   "metadata": {},
   "outputs": [
    {
     "name": "stdout",
     "output_type": "stream",
     "text": [
      "3.13532\n"
     ]
    }
   ],
   "source": [
    "print(pi(100000))"
   ]
  },
  {
   "cell_type": "code",
   "execution_count": null,
   "id": "1534328c",
   "metadata": {},
   "outputs": [],
   "source": []
  }
 ],
 "metadata": {
  "kernelspec": {
   "display_name": "Python 3 (ipykernel)",
   "language": "python",
   "name": "python3"
  },
  "language_info": {
   "codemirror_mode": {
    "name": "ipython",
    "version": 3
   },
   "file_extension": ".py",
   "mimetype": "text/x-python",
   "name": "python",
   "nbconvert_exporter": "python",
   "pygments_lexer": "ipython3",
   "version": "3.11.2"
  }
 },
 "nbformat": 4,
 "nbformat_minor": 5
}
