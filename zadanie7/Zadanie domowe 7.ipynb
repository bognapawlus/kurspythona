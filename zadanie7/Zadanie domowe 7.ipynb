{
 "cells": [
  {
   "cell_type": "markdown",
   "id": "6355e38d",
   "metadata": {},
   "source": [
    "# Zadanie 7\n",
    "Zdefiniuj klasę `Ułamek` z konstruktorem (z dwoma parametrami: licznik i mianownik), operacjami arytmetycznymi (+, -, *, /), operatorami porównań i obiema konwersjami do napisów (wynik ma być w postaci *licznik/mianownik*). Zwróć uwagę na to, by operacje arytmetyczne nie modyfikowały swoich argumentów. Zadbaj o wykrywanie próby utworzenia ułamka o zerowym mianowniku (`assert`). Zadbaj o prawidłowe traktowanie ułamków ujemnych oraz ułamka o wartości zero. Ułamki należy pamiętać w postaci skróconej (można w tym celu skorzystać z `math.gcd`, ta funkcja również dla ujemnych argumentów daje wynik nieujemny). Dopisz kod testujący Twoje rozwiązanie dla co najmniej dwu ułamków. Możesz założyć, że drugi argument operatorów też jest ułamkiem."
   ]
  },
  {
   "cell_type": "code",
   "execution_count": 2,
   "id": "6c9ee7a7",
   "metadata": {},
   "outputs": [],
   "source": [
    "import math\n",
    "\n",
    "class Ulamek:\n",
    "     \n",
    "    def __init__(self, licznik, mianownik):\n",
    "        assert mianownik != 0\n",
    "        self.l = licznik // math.gcd(licznik, mianownik)\n",
    "        self.m = mianownik // math.gcd(licznik, mianownik)\n",
    "        \n",
    "    def __add__(self, inny):\n",
    "        l2 = inny.l\n",
    "        m2 = inny.m\n",
    "        \n",
    "        wynikl = self.l * m2 + self.m * l2\n",
    "        wynikm = self.m * m2\n",
    "\n",
    "        return Ulamek(wynikl // math.gcd(wynikl, wynikm), wynikm // math.gcd(wynikl, wynikm))    \n",
    "        \n",
    "    def __sub__(self, inny):\n",
    "        l2 = inny.l\n",
    "        m2 = inny.m\n",
    "        \n",
    "        wynikl = self.l * m2 - self.m * l2\n",
    "        wynikm = self.m * m2\n",
    "\n",
    "        return Ulamek(wynikl // math.gcd(wynikl, wynikm), wynikm // math.gcd(wynikl, wynikm))\n",
    "    \n",
    "    def __mul__(self, inny):\n",
    "        l2 = inny.l\n",
    "        m2 = inny.m\n",
    "        wynikl = self.l * l2\n",
    "        wynikm = self.m * m2 \n",
    "        return Ulamek(wynikl // math.gcd(wynikl, wynikm), wynikm // math.gcd(wynikl, wynikm))\n",
    "    \n",
    "    def __truediv__(self, inny):\n",
    "        l2 = inny.l\n",
    "        m2 = inny.m\n",
    "        assert(l2 != 0)\n",
    "        wynikl = self.l * m2\n",
    "        wynikm = self.m * l2\n",
    "        return Ulamek(wynikl // math.gcd(wynikl, wynikm), wynikm // math.gcd(wynikl, wynikm))\n",
    "        \n",
    "        \n",
    "    def __str__(self): ##wypisz liczbe\n",
    "        if self.ujemny() == True:\n",
    "            if self.modul(self.m) != 1:\n",
    "                return f\"- {self.modul(int(self.l))} / {self.modul(int(self.m))}\"\n",
    "            else:\n",
    "                return f\"- {self.modul(int(self.l))}\"   \n",
    "        else:\n",
    "            if self.m != 1:\n",
    "                return f\"{int(self.l)} / {int(self.m)}\"\n",
    "            else:\n",
    "                return f\"{int(self.l)}\"\n",
    "    \n",
    "    def ujemny(self):\n",
    "        if self.l < 0 and self.m > 0:\n",
    "            return True\n",
    "        if self.l > 0 and self.m < 0:\n",
    "            return True\n",
    "        return False\n",
    "    \n",
    "    def modul(self, a):\n",
    "        if a > 0:\n",
    "            return a\n",
    "        else:\n",
    "            return -a\n",
    "        "
   ]
  },
  {
   "cell_type": "code",
   "execution_count": 3,
   "id": "478a24ce",
   "metadata": {},
   "outputs": [
    {
     "name": "stdout",
     "output_type": "stream",
     "text": [
      "U1 po skróceniu: 1 / 2\n",
      "U2 po skróceniu: 1 / 3\n",
      "U3 po skróceniu: 1 / 6\n",
      "U0 po skróceniu: - 4\n",
      "dodawanie: U4 = U1 + U2 + U3 -> 1\n",
      "odejmowanie: U5 = U2 - U1 -> - 1 / 6\n",
      "mnożenie: U6 = U1 * U3 -> 1 / 12\n",
      "dzielenie: U7 = U1 / U3 -> 3\n",
      "U8 = U0 * U3 + U3 / U2 -> - 1 / 6\n"
     ]
    }
   ],
   "source": [
    "U0 = Ulamek(4, -1)\n",
    "U1 = Ulamek(1, 2)\n",
    "U2 = Ulamek(5, 15)\n",
    "U3 = Ulamek(2, 12)\n",
    "print(f\"U1 po skróceniu: {U1.__str__()}\")\n",
    "print(f\"U2 po skróceniu: {U2.__str__()}\")\n",
    "print(f\"U3 po skróceniu: {U3.__str__()}\")\n",
    "print(f\"U0 po skróceniu: {U0.__str__()}\")\n",
    "\n",
    "U4 = U1 + U2 + U3\n",
    "print(f\"dodawanie: U4 = U1 + U2 + U3 -> {U4.__str__()}\")\n",
    "U5 = U2 - U1\n",
    "print(f\"odejmowanie: U5 = U2 - U1 -> {U5.__str__()}\")\n",
    "U6 = U1 * U3\n",
    "print(f\"mnożenie: U6 = U1 * U3 -> {U6.__str__()}\")\n",
    "U7 = U1 / U3\n",
    "print(f\"dzielenie: U7 = U1 / U3 -> {U7.__str__()}\")\n",
    "U8 = U0 * U3 + U3 / U2\n",
    "print(f\"U8 = U0 * U3 + U3 / U2 -> {U8.__str__()}\")"
   ]
  },
  {
   "cell_type": "code",
   "execution_count": null,
   "id": "e031c3a8",
   "metadata": {},
   "outputs": [],
   "source": []
  }
 ],
 "metadata": {
  "kernelspec": {
   "display_name": "Python 3 (ipykernel)",
   "language": "python",
   "name": "python3"
  },
  "language_info": {
   "codemirror_mode": {
    "name": "ipython",
    "version": 3
   },
   "file_extension": ".py",
   "mimetype": "text/x-python",
   "name": "python",
   "nbconvert_exporter": "python",
   "pygments_lexer": "ipython3",
   "version": "3.10.12"
  }
 },
 "nbformat": 4,
 "nbformat_minor": 5
}
