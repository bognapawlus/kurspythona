{
 "cells": [
  {
   "cell_type": "code",
   "execution_count": 24,
   "id": "bb1d89f4",
   "metadata": {},
   "outputs": [],
   "source": [
    "from abc import ABC, abstractmethod \n",
    "\n",
    "class Item(ABC):\n",
    "    def __init__(self, title, creator, year):\n",
    "        self.title = title\n",
    "        self.creator = creator\n",
    "        self.year = year\n",
    "        \n",
    "    @abstractmethod\n",
    "    def display_info(self):\n",
    "        pass"
   ]
  },
  {
   "cell_type": "code",
   "execution_count": 25,
   "id": "412f2dcc",
   "metadata": {},
   "outputs": [],
   "source": [
    "class Book(Item):\n",
    "    \n",
    "    def __init__(self, title, creator, year, genre, isbn):\n",
    "        super().__init__(title, creator, year)\n",
    "        self.genre = genre\n",
    "        self.isbn = isbn\n",
    "    \n",
    "    def display_info(self):\n",
    "        print(f\"# Title: {self.title}\")\n",
    "        print(f\"# Creator: {self.creator}\")\n",
    "        print(f\"# Year: {self.year}\")\n",
    "        print(f\"# Genre: {self.genre}\")\n",
    "        print(f\"# ISBN: {self.isbn}\")\n",
    "        print()"
   ]
  },
  {
   "cell_type": "code",
   "execution_count": 26,
   "id": "0794f360",
   "metadata": {},
   "outputs": [],
   "source": [
    "class Movie(Item):\n",
    "    \n",
    "    def __init__(self, title, creator, year, genre, duration):\n",
    "        super().__init__(title, creator, year)\n",
    "        self.genre = genre\n",
    "        self.duration = duration\n",
    "\n",
    "    def display_info(self):\n",
    "        print(f\"# Title: {self.title}\")\n",
    "        print(f\"# Creator: {self.creator}\")\n",
    "        print(f\"# Year: {self.year}\")\n",
    "        print(f\"# Genre: {self.genre}\")\n",
    "        print(f\"# Duration:{self.duration}\")\n",
    "        print()"
   ]
  },
  {
   "cell_type": "code",
   "execution_count": 38,
   "id": "2555c2bc",
   "metadata": {},
   "outputs": [],
   "source": [
    "import json\n",
    "\n",
    "class Library:\n",
    "    def __init__(self, items):\n",
    "        self.items = items\n",
    "        \n",
    "    def add_item(self, item):\n",
    "        if isinstance(item, Movie):\n",
    "            new_d = {\n",
    "                \"Title\": item.title,\n",
    "                \"Creator\": item.creator,\n",
    "                \"Year\": item.year,\n",
    "                \"Genre\": item.genre,\n",
    "                \"Duration\": item.duration\n",
    "            }\n",
    "            self.items[\"films\"].append(new_d)\n",
    "        elif isinstance(item, Book):\n",
    "            new_d = {\n",
    "                \"Title\": item.title,\n",
    "                \"Creator\": item.creator,\n",
    "                \"Year\": item.year,\n",
    "                \"Genre\": item.genre,\n",
    "                \"ISBN\": item.isbn\n",
    "            }\n",
    "            self.items[\"books\"].append(new_d)\n",
    "        \n",
    "    def display_items(self):\n",
    "        b = self.items[\"books\"]\n",
    "        print(\"# OUT\")\n",
    "        for elem in b:\n",
    "            for k in elem:\n",
    "                print(\"# \" + k + \":\" + str(elem[k]))\n",
    "            print()\n",
    "            \n",
    "        f = self.items[\"films\"]\n",
    "        for elem in f:\n",
    "            for k in elem:\n",
    "                print(\"# \" + k + \":\" + str(elem[k]))\n",
    "            print()\n",
    "        print()\n",
    "        \n",
    "    def save_to_file(self, filename):\n",
    "        with open(filename, \"w\") as outfile:\n",
    "            d = json.dumps(self.items, indent=4) \n",
    "            outfile.write(d)\n",
    "    \n",
    "    def load_from_file(self, filename):       \n",
    "        with open(filename) as user_file:\n",
    "            file_contents = user_file.read()\n",
    "        parsed_json = json.loads(file_contents)\n",
    "        self.items = parsed_json\n",
    "        print(f\"Załadowano dane z pliku {filename}\")\n",
    "        \n",
    "    def podobne(self, m):\n",
    "        if isinstance(m, Movie):\n",
    "            print(f\"Filmy podobne do {m.title}:\")\n",
    "            for el in self.items[\"films\"]:\n",
    "                if (el[\"Genre\"] == m.genre and \n",
    "                el[\"Title\"] != m.title and \n",
    "                abs(el[\"Year\"]-m.year) < 6 and \n",
    "                abs(el[\"Duration\"]-m.duration) < 25):\n",
    "                    for k in el:\n",
    "                        print(\"# \" + k + \":\" + str(el[k]))\n",
    "                    print()\n",
    "                    \n",
    "        elif isinstance(m, Book):\n",
    "            print(f\"Książki podobne do {m.title}:\")\n",
    "            for el in self.items[\"books\"]:\n",
    "                i = 0\n",
    "                if el[\"Genre\"] == m.genre and el[\"Creator\"] == m.creator and el[\"Title\"] != m.title:\n",
    "                    for k in el:\n",
    "                        print(\"# \" + k + \":\" + str(el[k]))\n",
    "                    print()\n",
    "                    i += 1\n",
    "                if i < 2:\n",
    "                    if el[\"Genre\"] == m.genre and el[\"Creator\"] != m.creator and el[\"Title\"] != m.title:\n",
    "                        for k in el:\n",
    "                            print(\"# \" + k + \":\" + str(el[k]))\n",
    "                        print()\n",
    "                \n",
    "        else:\n",
    "            print(f\"{movie} nie jest filmem\")"
   ]
  },
  {
   "cell_type": "code",
   "execution_count": 39,
   "id": "c9f16d7c",
   "metadata": {},
   "outputs": [
    {
     "name": "stdout",
     "output_type": "stream",
     "text": [
      "Załadowano dane z pliku dane1.json\n"
     ]
    }
   ],
   "source": [
    "library = Library({})\n",
    "library.load_from_file(\"dane1.json\")"
   ]
  },
  {
   "cell_type": "code",
   "execution_count": 40,
   "id": "31046fee",
   "metadata": {},
   "outputs": [
    {
     "name": "stdout",
     "output_type": "stream",
     "text": [
      "# OUT\n",
      "# Title:The Great Gatsby\n",
      "# Creator:F. Scott Fitzgerald\n",
      "# Year:1925\n",
      "# Genre:Classic\n",
      "# ISBN:978-3-16-148410-0\n",
      "\n",
      "# Title:Inception\n",
      "# Creator:Christopher Nolan\n",
      "# Year:2010\n",
      "# Genre:Sci-Fi\n",
      "# Duration:148\n",
      "\n",
      "# Title:Interstellar\n",
      "# Creator:Christopher Nolan\n",
      "# Year:2014\n",
      "# Genre:Sci-Fi\n",
      "# Duration:169\n",
      "\n",
      "# Title:Shutter Island\n",
      "# Creator:Martin Scorsese\n",
      "# Year:2010\n",
      "# Genre:Mystery\n",
      "# Duration:138\n",
      "\n",
      "\n"
     ]
    }
   ],
   "source": [
    "library.display_items()"
   ]
  },
  {
   "cell_type": "code",
   "execution_count": 41,
   "id": "92981c48",
   "metadata": {},
   "outputs": [],
   "source": [
    "##Kilka nowych książek i filmów:\n",
    "book1 = Book(\"Book1\", \"Anna Kowalska\", 2001, \"Gatunek1\", \"923-2-12-143230-1\")\n",
    "book2 = Book(\"Book2\", \"Anna Kowalska\", 1995, \"Classic\", \"924-1-62-142430-2\")\n",
    "book3 = Book(\"Book3\", \"Jan Nowak\", 1999, \"Gatunek1\", \"922-9-92-199430-3\")\n",
    "book4 = Book(\"Book4\", \"Jan Nowak\", 2006, \"Classic\", \"929-5-99-199255-4\")\n",
    "\n",
    "movie1 = Movie(\"Movie1\", \"Martin Scorsese\", 2010, \"Sci-Fi\", 148)\n",
    "movie2 = Movie(\"Movie2\", \"Martin Scorsese\", 2010, \"Mystery\", 148)\n",
    "movie3 = Movie(\"Movie3\", \"Christopher Nolan\", 2010, \"Mystery\", 148)"
   ]
  },
  {
   "cell_type": "code",
   "execution_count": 42,
   "id": "971fc5c7",
   "metadata": {},
   "outputs": [
    {
     "name": "stdout",
     "output_type": "stream",
     "text": [
      "# Title: Book1\n",
      "# Creator: Anna Kowalska\n",
      "# Year: 2001\n",
      "# Genre: Gatunek1\n",
      "# ISBN: 923-2-12-143230-1\n",
      "\n",
      "# Title: Movie1\n",
      "# Creator: Martin Scorsese\n",
      "# Year: 2010\n",
      "# Genre: Sci-Fi\n",
      "# Duration:148\n",
      "\n"
     ]
    }
   ],
   "source": [
    "book1.display_info()\n",
    "movie1.display_info()"
   ]
  },
  {
   "cell_type": "code",
   "execution_count": 43,
   "id": "283774be",
   "metadata": {},
   "outputs": [],
   "source": [
    "library.add_item(book1)\n",
    "library.add_item(book2)\n",
    "library.add_item(book3)\n",
    "library.add_item(book4)\n",
    "library.add_item(movie1)\n",
    "library.add_item(movie2)\n",
    "library.add_item(movie3)"
   ]
  },
  {
   "cell_type": "code",
   "execution_count": 44,
   "id": "bab5db66",
   "metadata": {},
   "outputs": [
    {
     "name": "stdout",
     "output_type": "stream",
     "text": [
      "# OUT\n",
      "# Title:The Great Gatsby\n",
      "# Creator:F. Scott Fitzgerald\n",
      "# Year:1925\n",
      "# Genre:Classic\n",
      "# ISBN:978-3-16-148410-0\n",
      "\n",
      "# Title:Book1\n",
      "# Creator:Anna Kowalska\n",
      "# Year:2001\n",
      "# Genre:Gatunek1\n",
      "# ISBN:923-2-12-143230-1\n",
      "\n",
      "# Title:Book2\n",
      "# Creator:Anna Kowalska\n",
      "# Year:1995\n",
      "# Genre:Classic\n",
      "# ISBN:924-1-62-142430-2\n",
      "\n",
      "# Title:Book3\n",
      "# Creator:Jan Nowak\n",
      "# Year:1999\n",
      "# Genre:Gatunek1\n",
      "# ISBN:922-9-92-199430-3\n",
      "\n",
      "# Title:Book4\n",
      "# Creator:Jan Nowak\n",
      "# Year:2006\n",
      "# Genre:Classic\n",
      "# ISBN:929-5-99-199255-4\n",
      "\n",
      "# Title:Inception\n",
      "# Creator:Christopher Nolan\n",
      "# Year:2010\n",
      "# Genre:Sci-Fi\n",
      "# Duration:148\n",
      "\n",
      "# Title:Interstellar\n",
      "# Creator:Christopher Nolan\n",
      "# Year:2014\n",
      "# Genre:Sci-Fi\n",
      "# Duration:169\n",
      "\n",
      "# Title:Shutter Island\n",
      "# Creator:Martin Scorsese\n",
      "# Year:2010\n",
      "# Genre:Mystery\n",
      "# Duration:138\n",
      "\n",
      "# Title:Movie1\n",
      "# Creator:Martin Scorsese\n",
      "# Year:2010\n",
      "# Genre:Sci-Fi\n",
      "# Duration:148\n",
      "\n",
      "# Title:Movie2\n",
      "# Creator:Martin Scorsese\n",
      "# Year:2010\n",
      "# Genre:Mystery\n",
      "# Duration:148\n",
      "\n",
      "# Title:Movie3\n",
      "# Creator:Christopher Nolan\n",
      "# Year:2010\n",
      "# Genre:Mystery\n",
      "# Duration:148\n",
      "\n",
      "\n"
     ]
    }
   ],
   "source": [
    "library.display_items()"
   ]
  },
  {
   "cell_type": "code",
   "execution_count": 45,
   "id": "0e4c7697",
   "metadata": {},
   "outputs": [
    {
     "name": "stdout",
     "output_type": "stream",
     "text": [
      "Załadowano dane z pliku library_data.json\n"
     ]
    }
   ],
   "source": [
    "#Zapisanie informacje do pliku i wczytanie z powrotem:\n",
    "library.save_to_file(\"library_data.json\")\n",
    "new_library = Library({})\n",
    "new_library.load_from_file(\"library_data.json\")"
   ]
  },
  {
   "cell_type": "code",
   "execution_count": 46,
   "id": "63535c92",
   "metadata": {},
   "outputs": [
    {
     "name": "stdout",
     "output_type": "stream",
     "text": [
      "# OUT\n",
      "# Title:The Great Gatsby\n",
      "# Creator:F. Scott Fitzgerald\n",
      "# Year:1925\n",
      "# Genre:Classic\n",
      "# ISBN:978-3-16-148410-0\n",
      "\n",
      "# Title:Book1\n",
      "# Creator:Anna Kowalska\n",
      "# Year:2001\n",
      "# Genre:Gatunek1\n",
      "# ISBN:923-2-12-143230-1\n",
      "\n",
      "# Title:Book2\n",
      "# Creator:Anna Kowalska\n",
      "# Year:1995\n",
      "# Genre:Classic\n",
      "# ISBN:924-1-62-142430-2\n",
      "\n",
      "# Title:Book3\n",
      "# Creator:Jan Nowak\n",
      "# Year:1999\n",
      "# Genre:Gatunek1\n",
      "# ISBN:922-9-92-199430-3\n",
      "\n",
      "# Title:Book4\n",
      "# Creator:Jan Nowak\n",
      "# Year:2006\n",
      "# Genre:Classic\n",
      "# ISBN:929-5-99-199255-4\n",
      "\n",
      "# Title:Inception\n",
      "# Creator:Christopher Nolan\n",
      "# Year:2010\n",
      "# Genre:Sci-Fi\n",
      "# Duration:148\n",
      "\n",
      "# Title:Interstellar\n",
      "# Creator:Christopher Nolan\n",
      "# Year:2014\n",
      "# Genre:Sci-Fi\n",
      "# Duration:169\n",
      "\n",
      "# Title:Shutter Island\n",
      "# Creator:Martin Scorsese\n",
      "# Year:2010\n",
      "# Genre:Mystery\n",
      "# Duration:138\n",
      "\n",
      "# Title:Movie1\n",
      "# Creator:Martin Scorsese\n",
      "# Year:2010\n",
      "# Genre:Sci-Fi\n",
      "# Duration:148\n",
      "\n",
      "# Title:Movie2\n",
      "# Creator:Martin Scorsese\n",
      "# Year:2010\n",
      "# Genre:Mystery\n",
      "# Duration:148\n",
      "\n",
      "# Title:Movie3\n",
      "# Creator:Christopher Nolan\n",
      "# Year:2010\n",
      "# Genre:Mystery\n",
      "# Duration:148\n",
      "\n",
      "\n"
     ]
    }
   ],
   "source": [
    "# Wyświetl informacje o przedmiotach w nowej bibliotece:\n",
    "new_library.display_items()"
   ]
  },
  {
   "cell_type": "code",
   "execution_count": 47,
   "id": "557fed25",
   "metadata": {},
   "outputs": [
    {
     "name": "stdout",
     "output_type": "stream",
     "text": [
      "# Title: Movie1\n",
      "# Creator: Martin Scorsese\n",
      "# Year: 2010\n",
      "# Genre: Sci-Fi\n",
      "# Duration:148\n",
      "\n",
      "Filmy podobne do Movie1:\n",
      "# Title:Inception\n",
      "# Creator:Christopher Nolan\n",
      "# Year:2010\n",
      "# Genre:Sci-Fi\n",
      "# Duration:148\n",
      "\n",
      "# Title:Interstellar\n",
      "# Creator:Christopher Nolan\n",
      "# Year:2014\n",
      "# Genre:Sci-Fi\n",
      "# Duration:169\n",
      "\n"
     ]
    }
   ],
   "source": [
    "movie1.display_info()\n",
    "new_library.podobne(movie1)"
   ]
  },
  {
   "cell_type": "code",
   "execution_count": 48,
   "id": "a2c5052d",
   "metadata": {},
   "outputs": [
    {
     "name": "stdout",
     "output_type": "stream",
     "text": [
      "# Title: Book1\n",
      "# Creator: Anna Kowalska\n",
      "# Year: 2001\n",
      "# Genre: Gatunek1\n",
      "# ISBN: 923-2-12-143230-1\n",
      "\n",
      "Książki podobne do Book1:\n",
      "# Title:Book3\n",
      "# Creator:Jan Nowak\n",
      "# Year:1999\n",
      "# Genre:Gatunek1\n",
      "# ISBN:922-9-92-199430-3\n",
      "\n"
     ]
    }
   ],
   "source": [
    "book1.display_info()\n",
    "new_library.podobne(book1)"
   ]
  },
  {
   "cell_type": "code",
   "execution_count": null,
   "id": "17c3c5e3",
   "metadata": {},
   "outputs": [],
   "source": []
  }
 ],
 "metadata": {
  "kernelspec": {
   "display_name": "Python 3 (ipykernel)",
   "language": "python",
   "name": "python3"
  },
  "language_info": {
   "codemirror_mode": {
    "name": "ipython",
    "version": 3
   },
   "file_extension": ".py",
   "mimetype": "text/x-python",
   "name": "python",
   "nbconvert_exporter": "python",
   "pygments_lexer": "ipython3",
   "version": "3.10.12"
  }
 },
 "nbformat": 4,
 "nbformat_minor": 5
}
